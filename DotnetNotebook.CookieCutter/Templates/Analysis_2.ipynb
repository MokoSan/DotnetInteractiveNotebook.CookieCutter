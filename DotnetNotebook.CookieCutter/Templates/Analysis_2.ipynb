{
  "cells": [
    {
      "cell_type": "markdown",
      "metadata": {
        "dotnet_interactive": {
          "language": "csharp"
        },
        "kernelspec": null,
        "language_info": null,
        "vscode": null
      },
      "source": [
        "## Analysis - 2"
      ]
    },
    {
      "cell_type": "code",
      "execution_count": null,
      "metadata": {
        "dotnet_interactive": {
          "language": "csharp"
        },
        "kernelspec": null,
        "language_info": null,
        "vscode": {
          "languageId": "dotnet-interactive.csharp"
        }
      },
      "outputs": [],
      "source": [
        "int x = #!{highSpeed};"
      ]
    }
  ],
  "metadata": {
    "dotnet_interactive": null,
    "kernelspec": {
      "display_name": ".NET (C#)",
      "language": "C#",
      "name": ".net-csharp"
    },
    "language_info": {
      "name": "C#"
    },
    "vscode": null
  },
  "nbformat": 4,
  "nbformat_minor": 2
}
