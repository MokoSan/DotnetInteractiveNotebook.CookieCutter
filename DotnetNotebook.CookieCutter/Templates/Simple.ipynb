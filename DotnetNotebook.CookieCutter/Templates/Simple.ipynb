{
  "cells": [
    {
      "cell_type": "markdown",
      "metadata": {
        "dotnet_interactive": {
          "language": "csharp"
        },
        "kernelspec": null,
        "language_info": null,
        "vscode": null
      },
      "source": [
        "# Analysis Type 0: Simple Trace Log"
      ]
    },
    {
      "cell_type": "code",
      "execution_count": null,
      "metadata": {
        "dotnet_interactive": {
          "language": "csharp"
        },
        "kernelspec": null,
        "language_info": null,
        "vscode": {
          "languageId": "dotnet-interactive.csharp"
        }
      },
      "outputs": [
        {
          "data": {
            "text/html": [
              "<div><div></div><div></div><div><strong>Installed Packages</strong><ul><li><span>Microsoft.Diagnostics.Tracing.TraceEvent, 3.0.0</span></li><li><span>Newtonsoft.Json, 13.0.1</span></li></ul></div></div>"
            ]
          },
          "metadata": {},
          "output_type": "display_data"
        }
      ],
      "source": [
        "#r \"nuget:Newtonsoft.Json\"\n",
        "#r \"nuget:Microsoft.Diagnostics.Tracing.TraceEvent\""
      ]
    },
    {
      "cell_type": "code",
      "execution_count": null,
      "metadata": {
        "dotnet_interactive": {
          "language": "csharp"
        },
        "kernelspec": null,
        "language_info": null,
        "vscode": {
          "languageId": "dotnet-interactive.csharp"
        }
      },
      "outputs": [],
      "source": [
        "using System;\n",
        "using System.Linq;\n",
        "using Microsoft.Diagnostics.Tracing;\n",
        "using Microsoft.Diagnostics.Tracing.Analysis;\n",
        "using Microsoft.Diagnostics.Tracing.Etlx;\n",
        "using Microsoft.Diagnostics.Tracing.Session;\n",
        "using Microsoft.Diagnostics.Tracing.Parsers.Clr;\n",
        "using Microsoft.Diagnostics.Tracing.Analysis.GC;\n",
        "using Microsoft.Diagnostics.Symbols;"
      ]
    },
    {
      "cell_type": "markdown",
      "metadata": {
        "dotnet_interactive": null,
        "kernelspec": null,
        "language_info": null,
        "vscode": null
      },
      "source": [
        "## Data Acquisition"
      ]
    },
    {
      "cell_type": "code",
      "execution_count": null,
      "metadata": {
        "dotnet_interactive": {
          "language": "csharp"
        },
        "kernelspec": null,
        "language_info": null,
        "vscode": {
          "languageId": "dotnet-interactive.csharp"
        }
      },
      "outputs": [],
      "source": [
        "var traceLog = TraceLog.OpenOrConvert(#!{etlFilePath});\n",
        "var anotherTrace = TraceLog.OpenOrConvert(#!{etlFilePath2});"
      ]
    },
    {
      "cell_type": "code",
      "execution_count": null,
      "metadata": {
        "dotnet_interactive": {
          "language": "csharp"
        },
        "vscode": {
          "languageId": "dotnet-interactive.csharp"
        }
      },
      "outputs": [],
      "source": [
        "int highPauseThresholdMSec = #!{highPauseThresholdMSec};"
      ]
    },
    {
      "cell_type": "markdown",
      "metadata": {
        "dotnet_interactive": null,
        "kernelspec": null,
        "language_info": null,
        "vscode": null
      },
      "source": [
        "## Event Statistics"
      ]
    },
    {
      "cell_type": "code",
      "execution_count": null,
      "metadata": {
        "dotnet_interactive": {
          "language": "csharp"
        },
        "kernelspec": null,
        "language_info": null,
        "vscode": {
          "languageId": "dotnet-interactive.csharp"
        }
      },
      "outputs": [],
      "source": [
        "traceLog.TraceEvents.Count"
      ]
    }
  ],
  "metadata": {
    "dotnet_interactive": null,
    "kernelspec": {
      "display_name": ".NET (C#)",
      "language": "C#",
      "name": ".net-csharp"
    },
    "language_info": {
      "name": "C#"
    },
    "vscode": null
  },
  "nbformat": 4,
  "nbformat_minor": 2
}
